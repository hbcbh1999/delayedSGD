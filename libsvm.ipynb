{
 "cells": [
  {
   "cell_type": "code",
   "execution_count": 1,
   "metadata": {},
   "outputs": [],
   "source": [
    "import numpy as np\n",
    "from scipy import sparse\n",
    "from sklearn.datasets import load_svmlight_file\n",
    "from random import shuffle\n",
    "\n",
    "X_train, Y_train = load_svmlight_file(\"data/a9a/a9a.txt\")\n",
    "X_test, Y_test = load_svmlight_file(\"data/a9a/a9a.t\")"
   ]
  },
  {
   "cell_type": "code",
   "execution_count": 2,
   "metadata": {},
   "outputs": [
    {
     "data": {
      "text/plain": [
       "((32561, 123), (32561,), (16281, 122), (16281,))"
      ]
     },
     "execution_count": 2,
     "metadata": {},
     "output_type": "execute_result"
    }
   ],
   "source": [
    "X_train.shape, Y_train.shape, X_test.shape, Y_test.shape"
   ]
  },
  {
   "cell_type": "code",
   "execution_count": 31,
   "metadata": {},
   "outputs": [],
   "source": [
    "X_test = sparse.hstack((X_test, np.zeros((X_test.shape[0],1))))\n",
    "\n"
   ]
  },
  {
   "cell_type": "code",
   "execution_count": 18,
   "metadata": {},
   "outputs": [
    {
     "data": {
      "text/plain": [
       "array([[10.]])"
      ]
     },
     "execution_count": 18,
     "metadata": {},
     "output_type": "execute_result"
    }
   ],
   "source": [
    "a = np.ones((10,1))\n",
    "b = sparse.csr_matrix(a)\n",
    "b.T.dot(a)"
   ]
  },
  {
   "cell_type": "code",
   "execution_count": 66,
   "metadata": {},
   "outputs": [],
   "source": [
    "a=shu_train[0,:].todense()\n",
    "b=X_train[x[0],:].todense()"
   ]
  },
  {
   "cell_type": "code",
   "execution_count": 94,
   "metadata": {},
   "outputs": [],
   "source": [
    "def data_partition(num_workers, X_train, Y_train):\n",
    "    \n",
    "    size = X_train.shape[0]\n",
    "    ind = list(range(size))\n",
    "    shuffle(ind)\n",
    "    \n",
    "    worker_size = int(np.floor(size/num_workers))\n",
    "    data = dict.fromkeys(list(range(num_workers)))\n",
    "    \n",
    "    for w in num_workers:\n",
    "        data[w] = dict()\n",
    "        if w is not num_workers-1:\n",
    "            data[w][\"X\"] = X_train[ind[w*worker_size: (w+1)*worker_size],:]\n",
    "            data[w][\"Y\"] = Y_train[ind[w*worker_size: (w+1)*worker_size],:]\n",
    "        else:\n",
    "            data[w][\"X\"] = X_train[ind[w*worker_size:],:]\n",
    "            data[w][\"Y\"] = Y_train[ind[w*worker_size:],:]\n",
    "        \n",
    "    return data\n"
   ]
  },
  {
   "cell_type": "code",
   "execution_count": 95,
   "metadata": {},
   "outputs": [],
   "source": [
    "def unpack_data(data):\n",
    "    \n",
    "    X_train, Y_train = data[\"X\"], data[\"Y\"]\n",
    "    \n",
    "    return X_train, Y_train"
   ]
  },
  {
   "cell_type": "code",
   "execution_count": 19,
   "metadata": {},
   "outputs": [],
   "source": [
    "from sklearn.datasets import fetch_mldata\n"
   ]
  },
  {
   "cell_type": "code",
   "execution_count": 20,
   "metadata": {},
   "outputs": [],
   "source": [
    "mnist = fetch_mldata('MNIST original', data_home=\"data/\")"
   ]
  },
  {
   "cell_type": "code",
   "execution_count": 27,
   "metadata": {},
   "outputs": [],
   "source": [
    "target = np.eye(10)[mnist.target.astype(\"int\")]\n"
   ]
  },
  {
   "cell_type": "code",
   "execution_count": 38,
   "metadata": {},
   "outputs": [],
   "source": [
    "\n",
    "from sklearn import preprocessing\n"
   ]
  },
  {
   "cell_type": "code",
   "execution_count": 45,
   "metadata": {},
   "outputs": [],
   "source": [
    "mnist.data = preprocessing.normalize(mnist.data)"
   ]
  },
  {
   "cell_type": "code",
   "execution_count": 43,
   "metadata": {},
   "outputs": [],
   "source": [
    "from matplotlib.pyplot import imshow"
   ]
  },
  {
   "cell_type": "code",
   "execution_count": 46,
   "metadata": {},
   "outputs": [
    {
     "data": {
      "text/plain": [
       "<matplotlib.image.AxesImage at 0x7f004d26f550>"
      ]
     },
     "execution_count": 46,
     "metadata": {},
     "output_type": "execute_result"
    },
    {
     "data": {
      "image/png": "[encoded data removed]",
      "text/plain": [
       "<matplotlib.figure.Figure at 0x7f004f34a198>"
      ]
     },
     "metadata": {},
     "output_type": "display_data"
    }
   ],
   "source": [
    "imshow(mnist.data[10000].reshape(28,28))"
   ]
  },
  {
   "cell_type": "code",
   "execution_count": 66,
   "metadata": {},
   "outputs": [],
   "source": [
    "class cls:\n",
    "    def __init__(self):\n",
    "        self.data = np.random.randn(1,1)\n",
    "        self.bias = np.random.randn(3,1)\n",
    "    \n",
    "    def modify(self):\n",
    "        self.data = np.random.randn(1,1)\n",
    "        self.bias = np.random.randn(3,1)\n"
   ]
  },
  {
   "cell_type": "code",
   "execution_count": 67,
   "metadata": {},
   "outputs": [],
   "source": [
    "c = cls()\n",
    "d = []"
   ]
  },
  {
   "cell_type": "code",
   "execution_count": 1,
   "metadata": {},
   "outputs": [],
   "source": [
    "import pickle\n",
    "from matplotlib import pyplot as plt"
   ]
  },
  {
   "cell_type": "code",
   "execution_count": 2,
   "metadata": {},
   "outputs": [],
   "source": [
    "# logged = pickle.load(open(\"logs.p\",\"rb\"))\n",
    "logged = pickle.load(open(\"datalogs.p\",\"rb\"))\n"
   ]
  },
  {
   "cell_type": "code",
   "execution_count": 11,
   "metadata": {},
   "outputs": [
    {
     "data": {
      "text/plain": [
       "dict_keys([0, 50, 500, 1000, 100, 10])"
      ]
     },
     "execution_count": 11,
     "metadata": {},
     "output_type": "execute_result"
    }
   ],
   "source": [
    "logged[20].keys()\n"
   ]
  },
  {
   "cell_type": "code",
   "execution_count": 12,
   "metadata": {},
   "outputs": [
    {
     "data": {
      "image/png": "[encoded data removed]",
      "text/plain": [
       "<matplotlib.figure.Figure at 0x7f6e8438c898>"
      ]
     },
     "metadata": {},
     "output_type": "display_data"
    }
   ],
   "source": [
    "# 1: num workers, 2: delay, 3: lr schedule, 4: lr const\n",
    "fig, ax = plt.subplots(3)\n",
    "\n",
    "for lr,logs in logged[1][100][\"default\"].items():\n",
    "#     print(logs)\n",
    "    gen_error = [abs(logs[i][\"train_loss\"] - logs[i][\"test_loss\"]) for i in range(num_epochs)]\n",
    "    train_error = [logs[i][\"train_loss\"] for i in range(num_epochs)]\n",
    "    test_error = [logs[i][\"test_loss\"] for i in range(num_epochs)]\n",
    "\n",
    "    ax[0].plot(gen_error, label=str(lr))\n",
    "\n",
    "    ax[0].legend()\n",
    "\n",
    "    ax[1].plot(train_error, label=str(lr)+\"train\")\n",
    "    ax[1].plot(test_error, label=str(lr)+\"test\")\n",
    "    ax[1].legend()\n",
    "    \n",
    "    train_accuracy = [logs[i][\"train_acc\"] for i in range(num_epochs)]\n",
    "    test_accuracy = [logs[i][\"test_acc\"] for i in range(num_epochs)]\n",
    "    ax[2].plot(train_accuracy, label=str(lr)+\"train\")\n",
    "    ax[2].plot(test_accuracy,label=str(lr)+\"test\")\n",
    "    "
   ]
  },
  {
   "cell_type": "code",
   "execution_count": 86,
   "metadata": {},
   "outputs": [],
   "source": [
    "import warnings\n",
    "warnings.filterwarnings('error')"
   ]
  },
  {
   "cell_type": "code",
   "execution_count": 96,
   "metadata": {},
   "outputs": [
    {
     "name": "stdout",
     "output_type": "stream",
     "text": [
      "warning caught\n",
      "[[-13.81551056]\n",
      " [-13.81551056]\n",
      " [-13.81551056]\n",
      " [-13.81551056]\n",
      " [-13.81551056]]\n"
     ]
    }
   ],
   "source": [
    "try:\n",
    "    print(np.log(z))\n",
    "except RuntimeWarning:\n",
    "    print(\"warning caught\")\n",
    "    print(np.log(z+1e-6))\n",
    "    "
   ]
  },
  {
   "cell_type": "code",
   "execution_count": 92,
   "metadata": {},
   "outputs": [],
   "source": [
    "z=np.zeros((5,1))"
   ]
  },
  {
   "cell_type": "code",
   "execution_count": 88,
   "metadata": {},
   "outputs": [
    {
     "data": {
      "text/plain": [
       "-6.0"
      ]
     },
     "execution_count": 88,
     "metadata": {},
     "output_type": "execute_result"
    }
   ],
   "source": []
  }
 ],
 "metadata": {
  "kernelspec": {
   "display_name": "Python 3",
   "language": "python",
   "name": "python3"
  },
  "language_info": {
   "codemirror_mode": {
    "name": "ipython",
    "version": 3
   },
   "file_extension": ".py",
   "mimetype": "text/x-python",
   "name": "python",
   "nbconvert_exporter": "python",
   "pygments_lexer": "ipython3",
   "version": "3.5.2"
  }
 },
 "nbformat": 4,
 "nbformat_minor": 2
}
